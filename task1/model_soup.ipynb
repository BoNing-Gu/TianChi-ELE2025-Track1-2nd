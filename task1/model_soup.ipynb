{
 "cells": [
  {
   "cell_type": "code",
   "execution_count": 1,
   "id": "c30a2ccd-febd-459c-a96e-1956ca28961e",
   "metadata": {},
   "outputs": [],
   "source": [
    "# from funasr.train_utils.average_nbest_models import average_checkpoints\n",
    "\n",
    "# average_checkpoints(\n",
    "#     \"./outputs_1\", 12, use_deepspeed=False\n",
    "# )\n",
    "# average_checkpoints(\n",
    "#     \"./outputs_1\", 5, use_deepspeed=False\n",
    "# )"
   ]
  },
  {
   "cell_type": "code",
   "execution_count": null,
   "id": "80d4ca8e-a7b1-41df-b776-ecad2d2cb493",
   "metadata": {},
   "outputs": [],
   "source": [
    "import logging\n",
    "from pathlib import Path\n",
    "from typing import Optional\n",
    "from typing import Sequence\n",
    "from typing import Union,List\n",
    "import warnings\n",
    "import os\n",
    "from io import BytesIO\n",
    "\n",
    "import torch\n",
    "from typing import Collection\n",
    "import os\n",
    "import torch\n",
    "import re\n",
    "from collections import OrderedDict\n",
    "from functools import cmp_to_key\n",
    "\n",
    "\n",
    "\n",
    "@torch.no_grad()\n",
    "def average_checkpoints(checkpoint_paths: List[str]):\n",
    "    \"\"\"\n",
    "    Average the last 'last_n' checkpoints' model state_dicts.\n",
    "    If a tensor is of type torch.int, perform sum instead of average.\n",
    "    \"\"\"\n",
    "    output_dir = \"outputs_1\"\n",
    "    print(f\"average_checkpoints: {checkpoint_paths}\")\n",
    "    state_dicts = []\n",
    "\n",
    "    # Load state_dicts from checkpoints\n",
    "    for path in checkpoint_paths:\n",
    "        if os.path.isfile(path):\n",
    "            state_dicts.append(torch.load(path, map_location=\"cpu\")[\"state_dict\"])\n",
    "        else:\n",
    "            print(f\"Checkpoint file {path} not found.\")\n",
    "\n",
    "    # Check if we have any state_dicts to average\n",
    "    if len(state_dicts) < 1:\n",
    "        print(\"No checkpoints found for averaging.\")\n",
    "        return\n",
    "\n",
    "    # Average or sum weights\n",
    "    avg_state_dict = OrderedDict()\n",
    "    for key in state_dicts[0].keys():\n",
    "        tensors = [state_dict[key].cpu() for state_dict in state_dicts]\n",
    "        # Check the type of the tensor\n",
    "        if str(tensors[0].dtype).startswith(\"torch.int\"):\n",
    "            # Perform sum for integer tensors\n",
    "            summed_tensor = sum(tensors)\n",
    "            avg_state_dict[key] = summed_tensor\n",
    "        else:\n",
    "            # Perform average for other types of tensors\n",
    "            stacked_tensors = torch.stack(tensors)\n",
    "            avg_state_dict[key] = torch.mean(stacked_tensors, dim=0)\n",
    "    checkpoint_outpath = os.path.join(output_dir, f\"model_emsemble.pt\")\n",
    "    torch.save({\"state_dict\": avg_state_dict}, checkpoint_outpath)\n",
    "    return checkpoint_outpath"
   ]
  },
  {
   "cell_type": "code",
   "execution_count": 5,
   "id": "829ba3d4-ca8d-4d8b-b48b-e0548229e5c8",
   "metadata": {},
   "outputs": [
    {
     "name": "stdout",
     "output_type": "stream",
     "text": [
      "average_checkpoints: ['archive(1)/outputs0/model.pt.avg10', 'archive(1)/outputs1/model.pt.avg10', 'archive(1)/outputs2/model.pt.avg10', 'archive(1)/outputs3/model.pt.avg10', 'archive(1)/outputs4/model.pt.avg10']\n"
     ]
    },
    {
     "data": {
      "text/plain": [
       "'outputs_1/model_emsemble.pt'"
      ]
     },
     "execution_count": 5,
     "metadata": {},
     "output_type": "execute_result"
    }
   ],
   "source": [
    "checkpoint_paths = [\"archive(1)/outputs0/model.pt.avg10\",\n",
    "                   \"archive(1)/outputs1/model.pt.avg10\",\n",
    "                    \"archive(1)/outputs2/model.pt.avg10\",\n",
    "                    \"archive(1)/outputs3/model.pt.avg10\",\n",
    "                    \"archive(1)/outputs4/model.pt.avg10\",\n",
    "                   ]\n",
    "average_checkpoints(checkpoint_paths)"
   ]
  },
  {
   "cell_type": "code",
   "execution_count": null,
   "id": "b9114fac-42e6-4dba-9d89-cb09ab5cb520",
   "metadata": {},
   "outputs": [],
   "source": []
  }
 ],
 "metadata": {
  "kernelspec": {
   "display_name": "tianchi",
   "language": "python",
   "name": "tianchi"
  },
  "language_info": {
   "codemirror_mode": {
    "name": "ipython",
    "version": 3
   },
   "file_extension": ".py",
   "mimetype": "text/x-python",
   "name": "python",
   "nbconvert_exporter": "python",
   "pygments_lexer": "ipython3",
   "version": "3.10.0"
  }
 },
 "nbformat": 4,
 "nbformat_minor": 5
}
