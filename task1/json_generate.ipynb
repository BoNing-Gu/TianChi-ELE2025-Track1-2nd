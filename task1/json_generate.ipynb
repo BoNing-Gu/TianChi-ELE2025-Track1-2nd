{
 "cells": [
  {
   "cell_type": "code",
   "execution_count": null,
   "id": "a6d09234-1f7b-4965-8fdb-fbbb12b7d9f3",
   "metadata": {
    "scrolled": true
   },
   "outputs": [
    {
     "name": "stderr",
     "output_type": "stream",
     "text": [
      "0it [00:00, ?it/s]"
     ]
    },
    {
     "name": "stdout",
     "output_type": "stream",
     "text": [
      "Index(['uuid', 'text', 'dom'], dtype='object')\n",
      "<bound method DataFrame.info of                                        uuid                text  dom\n",
      "6      c3aeb004-1360-4d93-8232-dbe5a09e4e7f  天猫精灵六百四十九乘以七点七等于多少    0\n",
      "35     f5326ebd-1484-4aeb-adb0-881bf23aa612    天猫精灵，来碗暖暖的小米枸杞粥吧    1\n",
      "39     51b20e8a-2f4d-4347-b2dc-4a2e4abbb554       天猫精灵中国中国是几个省会    0\n",
      "54     13ee9c70-430a-4b52-a6cf-3cf11382a9e4       天猫精灵窗帘打开百分之十五    0\n",
      "70     600a3b10-4766-4349-8535-8890038a91ca    天猫精灵，来份山药玉米炖排骨汤吧    1\n",
      "...                                     ...                 ...  ...\n",
      "77812  f082f0de-7c83-4e94-88f3-289c5d1b248c     天猫精灵，要个萝卜丝牛肉套餐吧    1\n",
      "77814  f58c2352-2491-40d8-a88c-84f0a5e99fcb      天猫精灵把音量调到百分之九十    0\n",
      "77826  b62f8bf8-3ef2-4ef8-8362-41f25034dab0    天猫精灵，要个白菜肉圆子炖粉条吧    1\n",
      "77835  303e5495-5849-4669-8d5f-01f2f4666652       天猫精灵，来碗番茄牛肉汤面    1\n",
      "77837  98d5cff2-224e-42dc-9607-cc38a60d17d7       天猫精灵，来碗鲜虾干贝粥吧    1\n",
      "\n",
      "[15569 rows x 3 columns]>\n"
     ]
    },
    {
     "name": "stderr",
     "output_type": "stream",
     "text": [
      "1it [00:00,  3.79it/s]"
     ]
    },
    {
     "name": "stdout",
     "output_type": "stream",
     "text": [
      "Index(['uuid', 'text', 'dom'], dtype='object')\n",
      "<bound method DataFrame.info of                                        uuid              text  dom\n",
      "0      8950df1c-2b1d-41ba-a49b-57200925060a       我要唱杜宣达的只剩雨季    0\n",
      "4      9b0062e3-464d-408f-8006-5e67949e57a4     天猫精灵，要碗南瓜小米甜粥    1\n",
      "7      ca07362f-67cc-4b3f-b295-4adca73af3e3   天猫精灵孩子总是爱坐地铁怎么办    0\n",
      "11     b61d8b2b-1715-45c0-bed7-e550662cf743  天猫精灵哦狗狗的声音小狗狗的声音    0\n",
      "12     769a1889-5536-46b8-b871-278f9cd36a63   天猫精灵请把声音调到百分之七十    0\n",
      "...                                     ...               ...  ...\n",
      "77813  76dba62f-27c0-499c-9a08-5109f40663f1  天猫精灵零点六二五乘四十等于多少    0\n",
      "77820  c7ce728c-c2bd-4c96-bf41-31ed60cc3c31  天猫精灵小孩子惹我生气了该怎么办    0\n",
      "77822  efc22642-d9f5-48bd-90aa-1aefcedeecbf   射手座和金牛座哪一个更靠谱一点    0\n",
      "77824  aa1eab8f-8fa4-4733-b502-56cd6b12c1ee     我要唱野哥的你用滥情惩罚我    0\n",
      "77838  d7218734-b4d0-434c-9074-ee420f473421      天猫精灵，来碗蛋花紫菜汤    1\n",
      "\n",
      "[15568 rows x 3 columns]>\n"
     ]
    },
    {
     "name": "stderr",
     "output_type": "stream",
     "text": [
      "2it [00:00,  4.06it/s]"
     ]
    },
    {
     "name": "stdout",
     "output_type": "stream",
     "text": [
      "Index(['uuid', 'text', 'dom'], dtype='object')\n",
      "<bound method DataFrame.info of                                        uuid                 text  dom\n",
      "1      2969eb77-f74b-464d-b5a4-7902237cbe71        天猫精灵，来份什锦素菜盖饭    1\n",
      "3      ab4709d5-517b-4cba-bc3c-75f8c0a43a0b            随便来点简单的      1\n",
      "9      bfd0e1b4-bcd3-47ca-a415-6e1ada3137ba        天猫精灵，要碗番茄面疙瘩汤    1\n",
      "10     4ef0423c-cf1c-497e-a980-80972b6a71b1            查找挂环体操的练习    0\n",
      "13     f9de4157-0c19-407c-8d70-eb8fc7f905d2          深蹲套装的全身锻炼方法    0\n",
      "...                                     ...                  ...  ...\n",
      "77816  0a8d319f-63d5-4a2e-a830-47ea74198e7d  天猫精灵，要一碗酸酸甜甜的番茄鸡蛋汤面    1\n",
      "77821  8a0ba3b2-d94e-48d5-b393-91a33bce0a10        天猫精灵，来碗南瓜红薯粥吧    1\n",
      "77830  82cf03f3-65b6-4a24-9521-97b34af6b49b            来碗家常青菜豆腐汤    1\n",
      "77831  913dd34c-35c3-4b2a-8622-ffc2e39a2cf3        天猫精灵你的小名叫什么名字    0\n",
      "77832  41096ae1-d31d-4eef-915c-74eab2f94ac3     天猫精灵，来碗热乎的皮蛋瘦肉粥吧    1\n",
      "\n",
      "[15568 rows x 3 columns]>\n"
     ]
    },
    {
     "name": "stderr",
     "output_type": "stream",
     "text": [
      "3it [00:00,  4.14it/s]"
     ]
    }
   ],
   "source": [
    "from sklearn.model_selection import KFold\n",
    "import pandas as pd\n",
    "import warnings\n",
    "from tqdm import tqdm\n",
    "\n",
    "warnings.filterwarnings(\"ignore\")\n",
    "n_split = 5\n",
    "SEED = 42\n",
    "\n",
    "train_txt_path = \"data/智慧养老_label/train.txt\"\n",
    "train_txt = pd.read_csv(train_txt_path,sep=\"\\t\")\n",
    "train_wav_path = \"train_wav{fold}.scp\"\n",
    "val_wav_path = \"val_wav{fold}.scp\"\n",
    "train_text_path = \"train_text{fold}.txt\"\n",
    "val_text_path = \"val_text{fold}.txt\"\n",
    "\n",
    "kfold = KFold(n_split,shuffle = True,random_state = SEED)\n",
    "for fold,(train_idx,val_idx) in enumerate(tqdm(kfold.split(train_txt))):\n",
    "    train_df = train_txt.loc[train_idx]\n",
    "    val_df = train_txt.loc[val_idx]\n",
    "    print(train_df.columns)\n",
    "    print(val_df.info)\n",
    "    train_text = train_df.rename(columns={'uuid':'ID',\"text\":\"target\"}).drop(\"dom\",axis = 1)\n",
    "    val_text = val_df.rename(columns={'uuid':'ID',\"text\":\"target\"}).drop(\"dom\",axis = 1)\n",
    "    train_wav = train_df.rename(columns={'uuid':'ID'}).drop([\"text\",\"dom\"],axis = 1)\n",
    "    val_wav = val_df.rename(columns={'uuid':'ID'}).drop([\"text\",\"dom\"],axis = 1)\n",
    "    train_wav[\"source\"] = train_text[\"ID\"].apply(\n",
    "                    lambda uuid: f\"/home/xd/SAMSUNG990pro/gzc_new/tianchi/SenseVoice-main/data/train_audio/{uuid}.wav\")\n",
    "    val_wav[\"source\"] = val_text[\"ID\"].apply(\n",
    "                    lambda uuid: f\"/home/xd/SAMSUNG990pro/gzc_new/tianchi/SenseVoice-main/data/train_audio/{uuid}.wav\")\n",
    "    train_wav.to_csv(train_wav_path.format(fold = fold),sep=' ', index=False)\n",
    "    val_wav.to_csv(val_wav_path.format(fold = fold),sep=' ', index=False)\n",
    "    train_text.to_csv(train_text_path.format(fold = fold),sep=' ', index=False)\n",
    "    val_text.to_csv(val_text_path.format(fold = fold),sep=' ', index=False)\n",
    "    "
   ]
  },
  {
   "cell_type": "code",
   "execution_count": null,
   "id": "580512ec-9717-4eb5-aa7d-d2224824d4b2",
   "metadata": {},
   "outputs": [],
   "source": []
  },
  {
   "cell_type": "code",
   "execution_count": null,
   "id": "93375f73-d1da-4c16-902a-750c27b46f52",
   "metadata": {},
   "outputs": [],
   "source": []
  }
 ],
 "metadata": {
  "kernelspec": {
   "display_name": "tianchi",
   "language": "python",
   "name": "tianchi"
  },
  "language_info": {
   "codemirror_mode": {
    "name": "ipython",
    "version": 3
   },
   "file_extension": ".py",
   "mimetype": "text/x-python",
   "name": "python",
   "nbconvert_exporter": "python",
   "pygments_lexer": "ipython3",
   "version": "3.10.0"
  }
 },
 "nbformat": 4,
 "nbformat_minor": 5
}
